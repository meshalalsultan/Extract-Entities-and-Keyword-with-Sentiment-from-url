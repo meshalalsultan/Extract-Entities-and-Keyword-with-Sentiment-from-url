{
 "cells": [
  {
   "cell_type": "code",
   "execution_count": 331,
   "metadata": {},
   "outputs": [],
   "source": [
    "import json\n",
    "from ibm_watson import NaturalLanguageUnderstandingV1\n",
    "from ibm_cloud_sdk_core.authenticators import IAMAuthenticator\n",
    "from ibm_watson.natural_language_understanding_v1 import Features, EntitiesOptions, KeywordsOptions"
   ]
  },
  {
   "cell_type": "code",
   "execution_count": 332,
   "metadata": {},
   "outputs": [],
   "source": [
    "\n",
    "authenticator = IAMAuthenticator('FaxNCa6IZYD0f3Cj42Or3mX9alU5y_2iC3obsUtAufNo')\n",
    "natural_language_understanding = NaturalLanguageUnderstandingV1(\n",
    "    version='2020-08-01',\n",
    "    authenticator=authenticator\n",
    ")\n",
    "\n",
    "natural_language_understanding.set_service_url('https://gateway-lon.watsonplatform.net/natural-language-understanding/api')"
   ]
  },
  {
   "cell_type": "markdown",
   "metadata": {},
   "source": [
    "# With Entities And Keyword"
   ]
  },
  {
   "cell_type": "code",
   "execution_count": 300,
   "metadata": {},
   "outputs": [
    {
     "name": "stdout",
     "output_type": "stream",
     "text": [
      "{\n",
      "  \"usage\": {\n",
      "    \"text_units\": 5,\n",
      "    \"text_characters\": 40353,\n",
      "    \"features\": 2\n",
      "  },\n",
      "  \"retrieved_url\": \"https://finance.yahoo.com/news/stock-market-news-live-updates-december-7-2020-121025987.html\",\n",
      "  \"language\": \"en\",\n",
      "  \"keywords\": [\n",
      "    {\n",
      "      \"text\": \"rental company\",\n",
      "      \"sentiment\": {\n",
      "        \"score\": -0.420143,\n",
      "        \"label\": \"negative\"\n",
      "      },\n",
      "      \"relevance\": 0.579105,\n",
      "      \"emotion\": {\n",
      "        \"sadness\": 0.189924,\n",
      "        \"joy\": 0.132318,\n",
      "        \"fear\": 0.054302,\n",
      "        \"disgust\": 0.010953,\n",
      "        \"anger\": 0.054865\n",
      "      },\n",
      "      \"count\": 1\n",
      "    },\n",
      "    {\n",
      "      \"text\": \"European stocks\",\n",
      "      \"sentiment\": {\n",
      "        \"score\": 0.720866,\n",
      "        \"label\": \"positive\"\n",
      "      },\n",
      "      \"relevance\": 0.57197,\n",
      "      \"emotion\": {\n",
      "        \"sadness\": 0.347011,\n",
      "        \"joy\": 0.114746,\n",
      "        \"fear\": 0.134228,\n",
      "        \"disgust\": 0.033945,\n",
      "        \"anger\": 0.184857\n",
      "      },\n",
      "      \"count\": 1\n",
      "    }\n",
      "  ],\n",
      "  \"entities\": [\n",
      "    {\n",
      "      \"type\": \"Person\",\n",
      "      \"text\": \"Andy Serwer\",\n",
      "      \"sentiment\": {\n",
      "        \"score\": 0,\n",
      "        \"label\": \"neutral\"\n",
      "      },\n",
      "      \"relevance\": 0.94863,\n",
      "      \"emotion\": {\n",
      "        \"sadness\": 0.231801,\n",
      "        \"joy\": 0.154041,\n",
      "        \"fear\": 0.027147,\n",
      "        \"disgust\": 0.346782,\n",
      "        \"anger\": 0.109703\n",
      "      },\n",
      "      \"count\": 4,\n",
      "      \"confidence\": 1\n",
      "    },\n",
      "    {\n",
      "      \"type\": \"Company\",\n",
      "      \"text\": \"Revlon\",\n",
      "      \"sentiment\": {\n",
      "        \"score\": -0.753116,\n",
      "        \"mixed\": \"1\",\n",
      "        \"label\": \"negative\"\n",
      "      },\n",
      "      \"relevance\": 0.770521,\n",
      "      \"emotion\": {\n",
      "        \"sadness\": 0.514389,\n",
      "        \"joy\": 0.051159,\n",
      "        \"fear\": 0.141301,\n",
      "        \"disgust\": 0.121921,\n",
      "        \"anger\": 0.223452\n",
      "      },\n",
      "      \"disambiguation\": {\n",
      "        \"name\": \"Revlon\",\n",
      "        \"dbpedia_resource\": \"http://dbpedia.org/resource/Revlon\"\n",
      "      },\n",
      "      \"count\": 12,\n",
      "      \"confidence\": 1\n",
      "    }\n",
      "  ]\n",
      "}\n"
     ]
    }
   ],
   "source": [
    "response = natural_language_understanding.analyze(\n",
    "    url ='https://finance.yahoo.com/news/stock-market-news-live-updates-december-7-2020-121025987.html',\n",
    "    features=Features(\n",
    "        entities=EntitiesOptions(emotion=True, sentiment=True, limit=2),\n",
    "        keywords=KeywordsOptions(emotion=True, sentiment=True, limit=2))).get_result()\n",
    "\n",
    "print(json.dumps(response, indent=2))"
   ]
  },
  {
   "cell_type": "code",
   "execution_count": 302,
   "metadata": {},
   "outputs": [
    {
     "data": {
      "text/plain": [
       "{'text_units': 5, 'text_characters': 40353, 'features': 2}"
      ]
     },
     "execution_count": 302,
     "metadata": {},
     "output_type": "execute_result"
    }
   ],
   "source": [
    "response['usage']"
   ]
  },
  {
   "cell_type": "code",
   "execution_count": 301,
   "metadata": {},
   "outputs": [
    {
     "data": {
      "text/plain": [
       "dict_keys(['usage', 'retrieved_url', 'language', 'keywords', 'entities'])"
      ]
     },
     "execution_count": 301,
     "metadata": {},
     "output_type": "execute_result"
    }
   ],
   "source": [
    "response.keys()"
   ]
  },
  {
   "cell_type": "code",
   "execution_count": 303,
   "metadata": {},
   "outputs": [
    {
     "data": {
      "text/plain": [
       "40353"
      ]
     },
     "execution_count": 303,
     "metadata": {},
     "output_type": "execute_result"
    }
   ],
   "source": [
    "response['usage']['text_characters']"
   ]
  },
  {
   "cell_type": "markdown",
   "metadata": {},
   "source": [
    "# Extract The Entities"
   ]
  },
  {
   "cell_type": "code",
   "execution_count": 305,
   "metadata": {},
   "outputs": [
    {
     "data": {
      "text/plain": [
       "[{'type': 'Person',\n",
       "  'text': 'Andy Serwer',\n",
       "  'sentiment': {'score': 0, 'label': 'neutral'},\n",
       "  'relevance': 0.94863,\n",
       "  'emotion': {'sadness': 0.231801,\n",
       "   'joy': 0.154041,\n",
       "   'fear': 0.027147,\n",
       "   'disgust': 0.346782,\n",
       "   'anger': 0.109703},\n",
       "  'count': 4,\n",
       "  'confidence': 1},\n",
       " {'type': 'Company',\n",
       "  'text': 'Revlon',\n",
       "  'sentiment': {'score': -0.753116, 'mixed': '1', 'label': 'negative'},\n",
       "  'relevance': 0.770521,\n",
       "  'emotion': {'sadness': 0.514389,\n",
       "   'joy': 0.051159,\n",
       "   'fear': 0.141301,\n",
       "   'disgust': 0.121921,\n",
       "   'anger': 0.223452},\n",
       "  'disambiguation': {'name': 'Revlon',\n",
       "   'dbpedia_resource': 'http://dbpedia.org/resource/Revlon'},\n",
       "  'count': 12,\n",
       "  'confidence': 1}]"
      ]
     },
     "execution_count": 305,
     "metadata": {},
     "output_type": "execute_result"
    }
   ],
   "source": [
    "response['entities']"
   ]
  },
  {
   "cell_type": "code",
   "execution_count": 336,
   "metadata": {},
   "outputs": [
    {
     "name": "stdout",
     "output_type": "stream",
     "text": [
      "{'score': 0, 'label': 'neutral'}\n",
      "Andy Serwer\n",
      "Person\n",
      "{'sadness': 0.231801, 'joy': 0.154041, 'fear': 0.027147, 'disgust': 0.346782, 'anger': 0.109703}\n",
      "0.154041\n",
      "{'score': -0.753116, 'mixed': '1', 'label': 'negative'}\n",
      "Revlon\n",
      "Company\n",
      "{'sadness': 0.514389, 'joy': 0.051159, 'fear': 0.141301, 'disgust': 0.121921, 'anger': 0.223452}\n",
      "0.051159\n"
     ]
    },
    {
     "data": {
      "text/plain": [
       "[4, 12]"
      ]
     },
     "execution_count": 336,
     "metadata": {},
     "output_type": "execute_result"
    }
   ],
   "source": [
    "emotion_txt = []\n",
    "sentiment_txt = []\n",
    "text_txt = []\n",
    "type_txt = []\n",
    "count_txt = []\n",
    "for entitie in response['entities']:\n",
    "    print(entitie['sentiment'])\n",
    "    sentiments = entitie['sentiment']\n",
    "    sentiment_txt.append(sentiments)\n",
    "    count_txt.append(entitie['count'])\n",
    "    print(entitie['text'])\n",
    "    text_txt.append(entitie['text'])\n",
    "    type_txt.append(entitie['type'])\n",
    "    print(entitie['type'])\n",
    "    print(entitie['emotion'])\n",
    "    print(entitie['emotion']['joy'])\n",
    "    emotions= entitie['emotion']\n",
    "    emotion_txt.append(emotions)\n",
    "emotion_txt\n",
    "sentiment_txt\n",
    "count_txt"
   ]
  },
  {
   "cell_type": "code",
   "execution_count": 307,
   "metadata": {},
   "outputs": [
    {
     "data": {
      "text/plain": [
       "[{'score': 0, 'label': 'neutral'},\n",
       " {'score': -0.753116, 'mixed': '1', 'label': 'negative'}]"
      ]
     },
     "execution_count": 307,
     "metadata": {},
     "output_type": "execute_result"
    }
   ],
   "source": [
    "sentiment_txt"
   ]
  },
  {
   "cell_type": "code",
   "execution_count": 308,
   "metadata": {},
   "outputs": [
    {
     "data": {
      "text/plain": [
       "list"
      ]
     },
     "execution_count": 308,
     "metadata": {},
     "output_type": "execute_result"
    }
   ],
   "source": [
    "type(response['entities'])"
   ]
  },
  {
   "cell_type": "code",
   "execution_count": 309,
   "metadata": {},
   "outputs": [],
   "source": [
    "score_txt = []\n",
    "label_txt = []\n",
    "for s in sentiment_txt:\n",
    "    score = s['score']\n",
    "    label = s['label']\n",
    "    score_txt.append(score)\n",
    "    label_txt.append(label)"
   ]
  },
  {
   "cell_type": "code",
   "execution_count": 310,
   "metadata": {},
   "outputs": [
    {
     "data": {
      "text/plain": [
       "[0, -0.753116]"
      ]
     },
     "execution_count": 310,
     "metadata": {},
     "output_type": "execute_result"
    }
   ],
   "source": [
    "score_txt"
   ]
  },
  {
   "cell_type": "code",
   "execution_count": 311,
   "metadata": {},
   "outputs": [
    {
     "data": {
      "text/plain": [
       "['neutral', 'negative']"
      ]
     },
     "execution_count": 311,
     "metadata": {},
     "output_type": "execute_result"
    }
   ],
   "source": [
    "label_txt"
   ]
  },
  {
   "cell_type": "markdown",
   "metadata": {},
   "source": [
    "## Extarct the emotion"
   ]
  },
  {
   "cell_type": "code",
   "execution_count": 317,
   "metadata": {},
   "outputs": [
    {
     "data": {
      "text/plain": [
       "[{'sadness': 0.231801,\n",
       "  'joy': 0.154041,\n",
       "  'fear': 0.027147,\n",
       "  'disgust': 0.346782,\n",
       "  'anger': 0.109703},\n",
       " {'sadness': 0.514389,\n",
       "  'joy': 0.051159,\n",
       "  'fear': 0.141301,\n",
       "  'disgust': 0.121921,\n",
       "  'anger': 0.223452}]"
      ]
     },
     "execution_count": 317,
     "metadata": {},
     "output_type": "execute_result"
    }
   ],
   "source": [
    "emotion_txt"
   ]
  },
  {
   "cell_type": "code",
   "execution_count": 318,
   "metadata": {},
   "outputs": [
    {
     "data": {
      "text/plain": [
       "list"
      ]
     },
     "execution_count": 318,
     "metadata": {},
     "output_type": "execute_result"
    }
   ],
   "source": [
    "type(emotion_txt)"
   ]
  },
  {
   "cell_type": "code",
   "execution_count": 319,
   "metadata": {},
   "outputs": [],
   "source": [
    "joy_txt = []\n",
    "sadness_txt = []\n",
    "fear_txt = []\n",
    "disgust_txt = []\n",
    "anger_txt = []\n",
    "for emo in emotion_txt:\n",
    "    joy_txt.append(emo['joy'])\n",
    "    sadness_txt.append(emo['sadness'])\n",
    "    disgust_txt.append(emo['disgust'])\n",
    "    fear_txt.append(emo['fear'])\n",
    "    anger_txt.append(emo['anger'])"
   ]
  },
  {
   "cell_type": "code",
   "execution_count": 320,
   "metadata": {},
   "outputs": [
    {
     "name": "stdout",
     "output_type": "stream",
     "text": [
      "The Joy is : [0.154041, 0.051159]\n",
      "The Sadness is : [0.231801, 0.514389]\n",
      "The Disgust is : [0.346782, 0.121921]\n",
      "The Fear is : [0.027147, 0.141301]\n",
      "The anger is : [0.109703, 0.223452]\n"
     ]
    }
   ],
   "source": [
    "print(f'The Joy is : {joy_txt}')\n",
    "print(f'The Sadness is : {sadness_txt}')\n",
    "print(f'The Disgust is : {disgust_txt}')\n",
    "print(f'The Fear is : {fear_txt}')\n",
    "print(f'The anger is : {anger_txt}')"
   ]
  },
  {
   "cell_type": "markdown",
   "metadata": {},
   "source": [
    "## Put the entities in  the dataframe"
   ]
  },
  {
   "cell_type": "code",
   "execution_count": 337,
   "metadata": {},
   "outputs": [],
   "source": [
    "the_emotion_data = {'Count':count_txt,'Text': text_txt ,'Type': type_txt , 'Label':label_txt , 'Score': score_txt ,'Joy':joy_txt , 'Anger':anger_txt,'Sadness': sadness_txt , 'Fear' : fear_txt , 'Disgust' : disgust_txt}\n",
    "entities_data = pd.DataFrame(the_emotion_data)\n",
    "entities_data.set_index('Count',inplace=True)"
   ]
  },
  {
   "cell_type": "code",
   "execution_count": 338,
   "metadata": {},
   "outputs": [
    {
     "data": {
      "text/html": [
       "<div>\n",
       "<style scoped>\n",
       "    .dataframe tbody tr th:only-of-type {\n",
       "        vertical-align: middle;\n",
       "    }\n",
       "\n",
       "    .dataframe tbody tr th {\n",
       "        vertical-align: top;\n",
       "    }\n",
       "\n",
       "    .dataframe thead th {\n",
       "        text-align: right;\n",
       "    }\n",
       "</style>\n",
       "<table border=\"1\" class=\"dataframe\">\n",
       "  <thead>\n",
       "    <tr style=\"text-align: right;\">\n",
       "      <th></th>\n",
       "      <th>Text</th>\n",
       "      <th>Type</th>\n",
       "      <th>Label</th>\n",
       "      <th>Score</th>\n",
       "      <th>Joy</th>\n",
       "      <th>Anger</th>\n",
       "      <th>Sadness</th>\n",
       "      <th>Fear</th>\n",
       "      <th>Disgust</th>\n",
       "    </tr>\n",
       "    <tr>\n",
       "      <th>Count</th>\n",
       "      <th></th>\n",
       "      <th></th>\n",
       "      <th></th>\n",
       "      <th></th>\n",
       "      <th></th>\n",
       "      <th></th>\n",
       "      <th></th>\n",
       "      <th></th>\n",
       "      <th></th>\n",
       "    </tr>\n",
       "  </thead>\n",
       "  <tbody>\n",
       "    <tr>\n",
       "      <td>4</td>\n",
       "      <td>Andy Serwer</td>\n",
       "      <td>Person</td>\n",
       "      <td>neutral</td>\n",
       "      <td>0.000000</td>\n",
       "      <td>0.154041</td>\n",
       "      <td>0.109703</td>\n",
       "      <td>0.231801</td>\n",
       "      <td>0.027147</td>\n",
       "      <td>0.346782</td>\n",
       "    </tr>\n",
       "    <tr>\n",
       "      <td>12</td>\n",
       "      <td>Revlon</td>\n",
       "      <td>Company</td>\n",
       "      <td>negative</td>\n",
       "      <td>-0.753116</td>\n",
       "      <td>0.051159</td>\n",
       "      <td>0.223452</td>\n",
       "      <td>0.514389</td>\n",
       "      <td>0.141301</td>\n",
       "      <td>0.121921</td>\n",
       "    </tr>\n",
       "  </tbody>\n",
       "</table>\n",
       "</div>"
      ],
      "text/plain": [
       "              Text     Type     Label     Score       Joy     Anger   Sadness  \\\n",
       "Count                                                                           \n",
       "4      Andy Serwer   Person   neutral  0.000000  0.154041  0.109703  0.231801   \n",
       "12          Revlon  Company  negative -0.753116  0.051159  0.223452  0.514389   \n",
       "\n",
       "           Fear   Disgust  \n",
       "Count                      \n",
       "4      0.027147  0.346782  \n",
       "12     0.141301  0.121921  "
      ]
     },
     "execution_count": 338,
     "metadata": {},
     "output_type": "execute_result"
    }
   ],
   "source": [
    "entities_data"
   ]
  },
  {
   "cell_type": "markdown",
   "metadata": {},
   "source": [
    "# Extract The Keywords"
   ]
  },
  {
   "cell_type": "code",
   "execution_count": 324,
   "metadata": {},
   "outputs": [],
   "source": [
    "keyword = response['keywords']"
   ]
  },
  {
   "cell_type": "code",
   "execution_count": 325,
   "metadata": {},
   "outputs": [
    {
     "data": {
      "text/plain": [
       "[{'text': 'rental company',\n",
       "  'sentiment': {'score': -0.420143, 'label': 'negative'},\n",
       "  'relevance': 0.579105,\n",
       "  'emotion': {'sadness': 0.189924,\n",
       "   'joy': 0.132318,\n",
       "   'fear': 0.054302,\n",
       "   'disgust': 0.010953,\n",
       "   'anger': 0.054865},\n",
       "  'count': 1},\n",
       " {'text': 'European stocks',\n",
       "  'sentiment': {'score': 0.720866, 'label': 'positive'},\n",
       "  'relevance': 0.57197,\n",
       "  'emotion': {'sadness': 0.347011,\n",
       "   'joy': 0.114746,\n",
       "   'fear': 0.134228,\n",
       "   'disgust': 0.033945,\n",
       "   'anger': 0.184857},\n",
       "  'count': 1}]"
      ]
     },
     "execution_count": 325,
     "metadata": {},
     "output_type": "execute_result"
    }
   ],
   "source": [
    "keyword"
   ]
  },
  {
   "cell_type": "code",
   "execution_count": 326,
   "metadata": {},
   "outputs": [
    {
     "name": "stdout",
     "output_type": "stream",
     "text": [
      "the key : ['rental company', 'European stocks']\n",
      "the relevant is : [0.579105, 0.57197]\n",
      "the count is : [1, 1]\n"
     ]
    }
   ],
   "source": [
    "key_text = []\n",
    "key_relevance = []\n",
    "key_count =[]\n",
    "key_sentiment_txt =[]\n",
    "key_emotion_txt = []\n",
    "\n",
    "for key in keyword:\n",
    "    key_text.append(key['text'])\n",
    "    key_relevance.append(key['relevance'])\n",
    "    key_count.append(key['count'])\n",
    "    sentiment = key['sentiment']\n",
    "    key_sentiment_txt.append(sentiment)\n",
    "    emotion = key['emotion']\n",
    "    key_emotion_txt.append(emotion)\n",
    "\n",
    "print(f'the key : {key_text}')\n",
    "print(f'the relevant is : {key_relevance}')\n",
    "print(f'the count is : {key_count}')"
   ]
  },
  {
   "cell_type": "code",
   "execution_count": 327,
   "metadata": {},
   "outputs": [
    {
     "name": "stdout",
     "output_type": "stream",
     "text": [
      "the joy is : [0.132318, 0.114746]\n",
      "the fear is : [0.054302, 0.134228]\n",
      "the disgust is : [0.010953, 0.033945]\n",
      "the disust is : [0.054865, 0.184857]\n"
     ]
    }
   ],
   "source": [
    "key_joy = []\n",
    "key_fear =[]\n",
    "key_disgust =[]\n",
    "key_anger = []\n",
    "\n",
    "for emo in key_emotion_txt:\n",
    "    joy = emo['joy']\n",
    "    key_joy.append(joy)\n",
    "    fear = emo['fear']\n",
    "    key_fear.append(fear)\n",
    "    disgust = emo['disgust']\n",
    "    key_disgust.append(disgust)\n",
    "    anger = emo['anger']\n",
    "    key_anger.append(anger)\n",
    "\n",
    "print(f'the joy is : {key_joy}')\n",
    "print(f'the fear is : {key_fear}')\n",
    "print(f'the disgust is : {key_disgust}')\n",
    "print(f'the disust is : {key_anger}')"
   ]
  },
  {
   "cell_type": "code",
   "execution_count": 328,
   "metadata": {},
   "outputs": [
    {
     "name": "stdout",
     "output_type": "stream",
     "text": [
      "the label is : ['negative', 'positive']\n",
      "the score is : [-0.420143, 0.720866]\n"
     ]
    }
   ],
   "source": [
    "key_score = []\n",
    "key_label =[]\n",
    "\n",
    "for sent in key_sentiment_txt:\n",
    "    score = sent['score']\n",
    "    key_score.append(score)\n",
    "    label = sent['label']\n",
    "    key_label.append(label)\n",
    "\n",
    "print(f'the label is : {key_label}')\n",
    "print(f'the score is : {key_score}')"
   ]
  },
  {
   "cell_type": "markdown",
   "metadata": {},
   "source": [
    "# Put The Keyword in DataFrame"
   ]
  },
  {
   "cell_type": "code",
   "execution_count": 329,
   "metadata": {},
   "outputs": [],
   "source": [
    "the_keyword_df = {'Count' : key_count, 'Text' : key_text, 'Relevance': key_relevance, 'Score': key_score, 'Label':key_label, 'Joy':key_joy, 'Fear':key_fear, 'Anger':key_anger, 'Disgust':key_disgust}\n",
    "keyword_data = pd.DataFrame(the_keyword_df)\n",
    "keyword_data.set_index('Count',inplace=True)"
   ]
  },
  {
   "cell_type": "code",
   "execution_count": 330,
   "metadata": {},
   "outputs": [
    {
     "data": {
      "text/html": [
       "<div>\n",
       "<style scoped>\n",
       "    .dataframe tbody tr th:only-of-type {\n",
       "        vertical-align: middle;\n",
       "    }\n",
       "\n",
       "    .dataframe tbody tr th {\n",
       "        vertical-align: top;\n",
       "    }\n",
       "\n",
       "    .dataframe thead th {\n",
       "        text-align: right;\n",
       "    }\n",
       "</style>\n",
       "<table border=\"1\" class=\"dataframe\">\n",
       "  <thead>\n",
       "    <tr style=\"text-align: right;\">\n",
       "      <th></th>\n",
       "      <th>Text</th>\n",
       "      <th>Relevance</th>\n",
       "      <th>Score</th>\n",
       "      <th>Label</th>\n",
       "      <th>Joy</th>\n",
       "      <th>Fear</th>\n",
       "      <th>Anger</th>\n",
       "      <th>Disgust</th>\n",
       "    </tr>\n",
       "    <tr>\n",
       "      <th>Count</th>\n",
       "      <th></th>\n",
       "      <th></th>\n",
       "      <th></th>\n",
       "      <th></th>\n",
       "      <th></th>\n",
       "      <th></th>\n",
       "      <th></th>\n",
       "      <th></th>\n",
       "    </tr>\n",
       "  </thead>\n",
       "  <tbody>\n",
       "    <tr>\n",
       "      <td>1</td>\n",
       "      <td>rental company</td>\n",
       "      <td>0.579105</td>\n",
       "      <td>-0.420143</td>\n",
       "      <td>negative</td>\n",
       "      <td>0.132318</td>\n",
       "      <td>0.054302</td>\n",
       "      <td>0.054865</td>\n",
       "      <td>0.010953</td>\n",
       "    </tr>\n",
       "    <tr>\n",
       "      <td>1</td>\n",
       "      <td>European stocks</td>\n",
       "      <td>0.571970</td>\n",
       "      <td>0.720866</td>\n",
       "      <td>positive</td>\n",
       "      <td>0.114746</td>\n",
       "      <td>0.134228</td>\n",
       "      <td>0.184857</td>\n",
       "      <td>0.033945</td>\n",
       "    </tr>\n",
       "  </tbody>\n",
       "</table>\n",
       "</div>"
      ],
      "text/plain": [
       "                  Text  Relevance     Score     Label       Joy      Fear  \\\n",
       "Count                                                                       \n",
       "1       rental company   0.579105 -0.420143  negative  0.132318  0.054302   \n",
       "1      European stocks   0.571970  0.720866  positive  0.114746  0.134228   \n",
       "\n",
       "          Anger   Disgust  \n",
       "Count                      \n",
       "1      0.054865  0.010953  \n",
       "1      0.184857  0.033945  "
      ]
     },
     "execution_count": 330,
     "metadata": {},
     "output_type": "execute_result"
    }
   ],
   "source": [
    "keyword_data"
   ]
  },
  {
   "cell_type": "code",
   "execution_count": 339,
   "metadata": {},
   "outputs": [
    {
     "data": {
      "text/html": [
       "<div>\n",
       "<style scoped>\n",
       "    .dataframe tbody tr th:only-of-type {\n",
       "        vertical-align: middle;\n",
       "    }\n",
       "\n",
       "    .dataframe tbody tr th {\n",
       "        vertical-align: top;\n",
       "    }\n",
       "\n",
       "    .dataframe thead th {\n",
       "        text-align: right;\n",
       "    }\n",
       "</style>\n",
       "<table border=\"1\" class=\"dataframe\">\n",
       "  <thead>\n",
       "    <tr style=\"text-align: right;\">\n",
       "      <th></th>\n",
       "      <th>Text</th>\n",
       "      <th>Type</th>\n",
       "      <th>Label</th>\n",
       "      <th>Score</th>\n",
       "      <th>Joy</th>\n",
       "      <th>Anger</th>\n",
       "      <th>Sadness</th>\n",
       "      <th>Fear</th>\n",
       "      <th>Disgust</th>\n",
       "    </tr>\n",
       "    <tr>\n",
       "      <th>Count</th>\n",
       "      <th></th>\n",
       "      <th></th>\n",
       "      <th></th>\n",
       "      <th></th>\n",
       "      <th></th>\n",
       "      <th></th>\n",
       "      <th></th>\n",
       "      <th></th>\n",
       "      <th></th>\n",
       "    </tr>\n",
       "  </thead>\n",
       "  <tbody>\n",
       "    <tr>\n",
       "      <td>4</td>\n",
       "      <td>Andy Serwer</td>\n",
       "      <td>Person</td>\n",
       "      <td>neutral</td>\n",
       "      <td>0.000000</td>\n",
       "      <td>0.154041</td>\n",
       "      <td>0.109703</td>\n",
       "      <td>0.231801</td>\n",
       "      <td>0.027147</td>\n",
       "      <td>0.346782</td>\n",
       "    </tr>\n",
       "    <tr>\n",
       "      <td>12</td>\n",
       "      <td>Revlon</td>\n",
       "      <td>Company</td>\n",
       "      <td>negative</td>\n",
       "      <td>-0.753116</td>\n",
       "      <td>0.051159</td>\n",
       "      <td>0.223452</td>\n",
       "      <td>0.514389</td>\n",
       "      <td>0.141301</td>\n",
       "      <td>0.121921</td>\n",
       "    </tr>\n",
       "  </tbody>\n",
       "</table>\n",
       "</div>"
      ],
      "text/plain": [
       "              Text     Type     Label     Score       Joy     Anger   Sadness  \\\n",
       "Count                                                                           \n",
       "4      Andy Serwer   Person   neutral  0.000000  0.154041  0.109703  0.231801   \n",
       "12          Revlon  Company  negative -0.753116  0.051159  0.223452  0.514389   \n",
       "\n",
       "           Fear   Disgust  \n",
       "Count                      \n",
       "4      0.027147  0.346782  \n",
       "12     0.141301  0.121921  "
      ]
     },
     "execution_count": 339,
     "metadata": {},
     "output_type": "execute_result"
    }
   ],
   "source": [
    "entities_data"
   ]
  },
  {
   "cell_type": "code",
   "execution_count": 335,
   "metadata": {},
   "outputs": [
    {
     "data": {
      "text/plain": [
       "{'usage': {'text_units': 5, 'text_characters': 40353, 'features': 2},\n",
       " 'retrieved_url': 'https://finance.yahoo.com/news/stock-market-news-live-updates-december-7-2020-121025987.html',\n",
       " 'language': 'en',\n",
       " 'keywords': [{'text': 'rental company',\n",
       "   'sentiment': {'score': -0.420143, 'label': 'negative'},\n",
       "   'relevance': 0.579105,\n",
       "   'emotion': {'sadness': 0.189924,\n",
       "    'joy': 0.132318,\n",
       "    'fear': 0.054302,\n",
       "    'disgust': 0.010953,\n",
       "    'anger': 0.054865},\n",
       "   'count': 1},\n",
       "  {'text': 'European stocks',\n",
       "   'sentiment': {'score': 0.720866, 'label': 'positive'},\n",
       "   'relevance': 0.57197,\n",
       "   'emotion': {'sadness': 0.347011,\n",
       "    'joy': 0.114746,\n",
       "    'fear': 0.134228,\n",
       "    'disgust': 0.033945,\n",
       "    'anger': 0.184857},\n",
       "   'count': 1}],\n",
       " 'entities': [{'type': 'Person',\n",
       "   'text': 'Andy Serwer',\n",
       "   'sentiment': {'score': 0, 'label': 'neutral'},\n",
       "   'relevance': 0.94863,\n",
       "   'emotion': {'sadness': 0.231801,\n",
       "    'joy': 0.154041,\n",
       "    'fear': 0.027147,\n",
       "    'disgust': 0.346782,\n",
       "    'anger': 0.109703},\n",
       "   'count': 4,\n",
       "   'confidence': 1},\n",
       "  {'type': 'Company',\n",
       "   'text': 'Revlon',\n",
       "   'sentiment': {'score': -0.753116, 'mixed': '1', 'label': 'negative'},\n",
       "   'relevance': 0.770521,\n",
       "   'emotion': {'sadness': 0.514389,\n",
       "    'joy': 0.051159,\n",
       "    'fear': 0.141301,\n",
       "    'disgust': 0.121921,\n",
       "    'anger': 0.223452},\n",
       "   'disambiguation': {'name': 'Revlon',\n",
       "    'dbpedia_resource': 'http://dbpedia.org/resource/Revlon'},\n",
       "   'count': 12,\n",
       "   'confidence': 1}]}"
      ]
     },
     "execution_count": 335,
     "metadata": {},
     "output_type": "execute_result"
    }
   ],
   "source": [
    "response"
   ]
  },
  {
   "cell_type": "markdown",
   "metadata": {},
   "source": [
    "# Now i want to plot the result for entities and keyword \n",
    "also put the full information of the url"
   ]
  },
  {
   "cell_type": "code",
   "execution_count": null,
   "metadata": {},
   "outputs": [],
   "source": []
  }
 ],
 "metadata": {
  "kernelspec": {
   "display_name": "Python 3",
   "language": "python",
   "name": "python3"
  },
  "language_info": {
   "codemirror_mode": {
    "name": "ipython",
    "version": 3
   },
   "file_extension": ".py",
   "mimetype": "text/x-python",
   "name": "python",
   "nbconvert_exporter": "python",
   "pygments_lexer": "ipython3",
   "version": "3.7.3"
  }
 },
 "nbformat": 4,
 "nbformat_minor": 4
}
